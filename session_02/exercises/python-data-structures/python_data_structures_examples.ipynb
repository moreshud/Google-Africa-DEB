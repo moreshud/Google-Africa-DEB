{
  "nbformat": 4,
  "nbformat_minor": 0,
  "metadata": {
    "colab": {
      "provenance": []
    },
    "kernelspec": {
      "name": "python3",
      "display_name": "Python 3"
    },
    "language_info": {
      "name": "python"
    }
  },
  "cells": [
    {
      "cell_type": "markdown",
      "source": [
        "## Built-in Data Structures: Arrays, Lists, and Dictionaries\n",
        "### Arrays and Lists:\n",
        "Finding Second Largest Element"
      ],
      "metadata": {
        "id": "sD7w7bCOB0a7"
      }
    },
    {
      "cell_type": "code",
      "source": [
        "def second_largest(arr):\n",
        "    if len(arr) < 2:\n",
        "        return None\n",
        "    largest = second = float('-inf')\n",
        "    for num in arr:\n",
        "        if num > largest:\n",
        "            second = largest\n",
        "            largest = num\n",
        "        elif num > second and num != largest:\n",
        "            second = num\n",
        "    return second"
      ],
      "metadata": {
        "id": "CO0jblx7BzDl"
      },
      "execution_count": null,
      "outputs": []
    },
    {
      "cell_type": "code",
      "source": [
        "# Example usage\n",
        "array = [3, 1, 4, 7, 5, 9, 2]\n",
        "print(second_largest(array))  # Output: 7"
      ],
      "metadata": {
        "colab": {
          "base_uri": "https://localhost:8080/"
        },
        "id": "EcF_fsiMB-4b",
        "outputId": "38d5fe8e-cfb1-4003-8dd6-86bf3cc24c4f"
      },
      "execution_count": null,
      "outputs": [
        {
          "output_type": "stream",
          "name": "stdout",
          "text": [
            "7\n"
          ]
        }
      ]
    },
    {
      "cell_type": "markdown",
      "source": [
        "### Dictionaries:\n",
        "Counting Word Frequencies"
      ],
      "metadata": {
        "id": "Zt4phiWWCCKp"
      }
    },
    {
      "cell_type": "code",
      "source": [
        "def word_frequency(text):\n",
        "    words = text.split()\n",
        "    frequency = {}\n",
        "    for word in words:\n",
        "        word = word.lower()\n",
        "        if word in frequency:\n",
        "            frequency[word] += 1\n",
        "        else:\n",
        "            frequency[word] = 1\n",
        "    return frequency"
      ],
      "metadata": {
        "id": "jOrf5W4qB_lR"
      },
      "execution_count": null,
      "outputs": []
    },
    {
      "cell_type": "code",
      "source": [
        "# Example usage\n",
        "text = \"This is a simple example of a text. This is not complex.\"\n",
        "print(word_frequency(text))"
      ],
      "metadata": {
        "colab": {
          "base_uri": "https://localhost:8080/"
        },
        "id": "bms5jumrCOx7",
        "outputId": "f83c5eb5-fd77-435e-cecf-fde823e58b1e"
      },
      "execution_count": null,
      "outputs": [
        {
          "output_type": "stream",
          "name": "stdout",
          "text": [
            "{'this': 2, 'is': 2, 'a': 2, 'simple': 1, 'example': 1, 'of': 1, 'text.': 1, 'not': 1, 'complex.': 1}\n"
          ]
        }
      ]
    },
    {
      "cell_type": "markdown",
      "source": [
        "## User-defined Data Structures: Stack, Queue, HashMap, Tree, Heaps\n",
        "### Stack:\n",
        "Checking Balanced Parentheses"
      ],
      "metadata": {
        "id": "H4R-UK9YCX-R"
      }
    },
    {
      "cell_type": "code",
      "source": [
        "def is_balanced_parentheses(expression):\n",
        "    stack = []\n",
        "    parentheses = {'(': ')', '[': ']', '{': '}'}\n",
        "    for char in expression:\n",
        "        if char in parentheses.keys():\n",
        "            stack.append(char)\n",
        "        elif char in parentheses.values():\n",
        "            if not stack or parentheses[stack.pop()] != char:\n",
        "                return False\n",
        "    return len(stack) == 0"
      ],
      "metadata": {
        "id": "eYPXlOoQCP60"
      },
      "execution_count": null,
      "outputs": []
    },
    {
      "cell_type": "code",
      "source": [
        "# Example usage\n",
        "expression = \"{[()]}([])\"\n",
        "print(is_balanced_parentheses(expression))  # Output: True"
      ],
      "metadata": {
        "colab": {
          "base_uri": "https://localhost:8080/"
        },
        "id": "A4Vrr5XRCiGw",
        "outputId": "c25e57f6-ab22-4bdb-a148-0dbf005aa3e2"
      },
      "execution_count": null,
      "outputs": [
        {
          "output_type": "stream",
          "name": "stdout",
          "text": [
            "True\n"
          ]
        }
      ]
    },
    {
      "cell_type": "markdown",
      "source": [
        "### Queue:\n",
        "Generating Binary Numbers"
      ],
      "metadata": {
        "id": "9gPjBETACq4F"
      }
    },
    {
      "cell_type": "code",
      "source": [
        "from collections import deque\n",
        "\n",
        "def generate_binary_numbers(n):\n",
        "    result = []\n",
        "    queue = deque()\n",
        "    queue.append(\"1\")\n",
        "    for _ in range(n):\n",
        "        num = queue.popleft()\n",
        "        result.append(num)\n",
        "        queue.append(num + \"0\")\n",
        "        queue.append(num + \"1\")\n",
        "    return result"
      ],
      "metadata": {
        "id": "dNPHV4s8Cj1N"
      },
      "execution_count": null,
      "outputs": []
    },
    {
      "cell_type": "code",
      "source": [
        "# Example usage\n",
        "n = 5\n",
        "print(generate_binary_numbers(n))  # Output: ['1', '10', '11', '100', '101']"
      ],
      "metadata": {
        "colab": {
          "base_uri": "https://localhost:8080/"
        },
        "id": "FL18ujzgCume",
        "outputId": "9a39df97-11ba-470d-9831-970f36bb3e5c"
      },
      "execution_count": null,
      "outputs": [
        {
          "output_type": "stream",
          "name": "stdout",
          "text": [
            "['1', '10', '11', '100', '101']\n"
          ]
        }
      ]
    },
    {
      "cell_type": "markdown",
      "source": [
        "### HashMap:\n",
        "Detecting Anagrams"
      ],
      "metadata": {
        "id": "imBG9-d-C840"
      }
    },
    {
      "cell_type": "code",
      "source": [
        "def are_anagrams(str1, str2):\n",
        "    str1 = str1.lower().replace(\" \", \"\")\n",
        "    str2 = str2.lower().replace(\" \", \"\")\n",
        "    if len(str1) != len(str2):\n",
        "        return False\n",
        "    char_count = {}\n",
        "    for char in str1:\n",
        "        char_count[char] = char_count.get(char, 0) + 1\n",
        "    for char in str2:\n",
        "        if char not in char_count or char_count[char] == 0:\n",
        "            return False\n",
        "        char_count[char] -= 1\n",
        "    return True"
      ],
      "metadata": {
        "id": "nXIoCO3oCvRE"
      },
      "execution_count": null,
      "outputs": []
    },
    {
      "cell_type": "code",
      "source": [
        "# Example usage\n",
        "string1 = \"listen\"\n",
        "string2 = \"silent\"\n",
        "print(are_anagrams(string1, string2))  # Output: True"
      ],
      "metadata": {
        "colab": {
          "base_uri": "https://localhost:8080/"
        },
        "id": "n00uC5h7DAsY",
        "outputId": "0f270a7c-7857-4081-8bd9-4cc5fa206b77"
      },
      "execution_count": null,
      "outputs": [
        {
          "output_type": "stream",
          "name": "stdout",
          "text": [
            "True\n"
          ]
        }
      ]
    },
    {
      "cell_type": "markdown",
      "source": [
        "### Tree:\n",
        "Binary Search Tree Insertion"
      ],
      "metadata": {
        "id": "w4EeS5QyDEUW"
      }
    },
    {
      "cell_type": "code",
      "source": [
        "class TreeNode:\n",
        "    def __init__(self, val):\n",
        "        self.val = val\n",
        "        self.left = None\n",
        "        self.right = None\n",
        "\n",
        "class BST:\n",
        "    def __init__(self):\n",
        "        self.root = None\n",
        "\n",
        "    def insert(self, val):\n",
        "        self.root = self._insert_recursive(self.root, val)\n",
        "\n",
        "    def _insert_recursive(self, root, val):\n",
        "        if root is None:\n",
        "            return TreeNode(val)\n",
        "        if val < root.val:\n",
        "            root.left = self._insert_recursive(root.left, val)\n",
        "        else:\n",
        "            root.right = self._insert_recursive(root.right, val)\n",
        "        return root"
      ],
      "metadata": {
        "id": "HUlyiK6QDBL2"
      },
      "execution_count": null,
      "outputs": []
    },
    {
      "cell_type": "code",
      "source": [
        "# Example usage\n",
        "bst = BST()\n",
        "values = [5, 3, 8, 2, 4, 7, 9]\n",
        "for val in values:\n",
        "    bst.insert(val)"
      ],
      "metadata": {
        "id": "1SIlZlHUDIr-"
      },
      "execution_count": null,
      "outputs": []
    },
    {
      "cell_type": "markdown",
      "source": [
        "### Heaps:\n",
        "Finding Kth Largest Element"
      ],
      "metadata": {
        "id": "stHhiH9dDjw0"
      }
    },
    {
      "cell_type": "code",
      "source": [
        "import heapq\n",
        "\n",
        "def kth_largest_element(nums, k):\n",
        "    min_heap = []\n",
        "    for num in nums:\n",
        "        if len(min_heap) < k:\n",
        "            heapq.heappush(min_heap, num)\n",
        "        else:\n",
        "            if num > min_heap[0]:\n",
        "                heapq.heappop(min_heap)\n",
        "                heapq.heappush(min_heap, num)\n",
        "    return min_heap[0]\n"
      ],
      "metadata": {
        "id": "2zjoQBPvDKE_"
      },
      "execution_count": null,
      "outputs": []
    },
    {
      "cell_type": "code",
      "source": [
        "# Example usage\n",
        "nums = [3, 1, 4, 7, 5, 9, 2]\n",
        "k = 3\n",
        "print(kth_largest_element(nums, k))  # Output: 5"
      ],
      "metadata": {
        "id": "td5o5I4ZDoEP"
      },
      "execution_count": null,
      "outputs": []
    }
  ]
}